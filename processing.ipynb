{
 "cells": [
  {
   "cell_type": "markdown",
   "metadata": {},
   "source": [
    "# Leitura dos dados"
   ]
  },
  {
   "cell_type": "code",
   "execution_count": 26,
   "metadata": {},
   "outputs": [],
   "source": [
    "# Tire o comentário da cidade que deseja fazer o processamento\n",
    "#id_city = 'london'\n",
    "#id_city = 'rj'\n",
    "id_city = 'los_angeles'"
   ]
  },
  {
   "cell_type": "code",
   "execution_count": 25,
   "metadata": {},
   "outputs": [],
   "source": [
    "import pandas as pd\n",
    "import sys\n",
    "import os"
   ]
  },
  {
   "cell_type": "code",
   "execution_count": 27,
   "metadata": {},
   "outputs": [],
   "source": [
    "path_input = os.path.join(sys.path[0], \"data\", f\"listings_{id_city}.csv\")"
   ]
  },
  {
   "cell_type": "code",
   "execution_count": 28,
   "metadata": {},
   "outputs": [],
   "source": [
    "df_list = pd.read_csv(path_input)"
   ]
  },
  {
   "cell_type": "code",
   "execution_count": 29,
   "metadata": {},
   "outputs": [
    {
     "data": {
      "text/html": [
       "<div>\n",
       "<style scoped>\n",
       "    .dataframe tbody tr th:only-of-type {\n",
       "        vertical-align: middle;\n",
       "    }\n",
       "\n",
       "    .dataframe tbody tr th {\n",
       "        vertical-align: top;\n",
       "    }\n",
       "\n",
       "    .dataframe thead th {\n",
       "        text-align: right;\n",
       "    }\n",
       "</style>\n",
       "<table border=\"1\" class=\"dataframe\">\n",
       "  <thead>\n",
       "    <tr style=\"text-align: right;\">\n",
       "      <th></th>\n",
       "      <th>id</th>\n",
       "      <th>name</th>\n",
       "      <th>host_id</th>\n",
       "      <th>host_name</th>\n",
       "      <th>neighbourhood_group</th>\n",
       "      <th>neighbourhood</th>\n",
       "      <th>latitude</th>\n",
       "      <th>longitude</th>\n",
       "      <th>room_type</th>\n",
       "      <th>price</th>\n",
       "      <th>minimum_nights</th>\n",
       "      <th>number_of_reviews</th>\n",
       "      <th>last_review</th>\n",
       "      <th>reviews_per_month</th>\n",
       "      <th>calculated_host_listings_count</th>\n",
       "      <th>availability_365</th>\n",
       "      <th>number_of_reviews_ltm</th>\n",
       "      <th>license</th>\n",
       "    </tr>\n",
       "  </thead>\n",
       "  <tbody>\n",
       "    <tr>\n",
       "      <th>0</th>\n",
       "      <td>109</td>\n",
       "      <td>Amazing bright elegant condo park front *UPGRA...</td>\n",
       "      <td>521</td>\n",
       "      <td>Paolo</td>\n",
       "      <td>Other Cities</td>\n",
       "      <td>Culver City</td>\n",
       "      <td>33.98301</td>\n",
       "      <td>-118.38607</td>\n",
       "      <td>Entire home/apt</td>\n",
       "      <td>115</td>\n",
       "      <td>30</td>\n",
       "      <td>2</td>\n",
       "      <td>2016-05-15</td>\n",
       "      <td>0.02</td>\n",
       "      <td>1</td>\n",
       "      <td>226</td>\n",
       "      <td>0</td>\n",
       "      <td>NaN</td>\n",
       "    </tr>\n",
       "    <tr>\n",
       "      <th>1</th>\n",
       "      <td>2708</td>\n",
       "      <td>Runyon Canyon | Beau Furn Mirror Mini-Suite Fi...</td>\n",
       "      <td>3008</td>\n",
       "      <td>Chas.</td>\n",
       "      <td>City of Los Angeles</td>\n",
       "      <td>Hollywood</td>\n",
       "      <td>34.09625</td>\n",
       "      <td>-118.34605</td>\n",
       "      <td>Private room</td>\n",
       "      <td>89</td>\n",
       "      <td>30</td>\n",
       "      <td>33</td>\n",
       "      <td>2021-11-01</td>\n",
       "      <td>0.69</td>\n",
       "      <td>3</td>\n",
       "      <td>327</td>\n",
       "      <td>5</td>\n",
       "      <td>NaN</td>\n",
       "    </tr>\n",
       "    <tr>\n",
       "      <th>2</th>\n",
       "      <td>2732</td>\n",
       "      <td>Zen Life at the Beach</td>\n",
       "      <td>3041</td>\n",
       "      <td>Yoga Priestess</td>\n",
       "      <td>Other Cities</td>\n",
       "      <td>Santa Monica</td>\n",
       "      <td>34.00440</td>\n",
       "      <td>-118.48095</td>\n",
       "      <td>Private room</td>\n",
       "      <td>167</td>\n",
       "      <td>7</td>\n",
       "      <td>21</td>\n",
       "      <td>2019-12-27</td>\n",
       "      <td>0.35</td>\n",
       "      <td>2</td>\n",
       "      <td>359</td>\n",
       "      <td>0</td>\n",
       "      <td>228269</td>\n",
       "    </tr>\n",
       "    <tr>\n",
       "      <th>3</th>\n",
       "      <td>2864</td>\n",
       "      <td>* Beautiful Master Suite/Jacuzzi Tub/*</td>\n",
       "      <td>3207</td>\n",
       "      <td>Bernadine</td>\n",
       "      <td>Other Cities</td>\n",
       "      <td>Bellflower</td>\n",
       "      <td>33.87490</td>\n",
       "      <td>-118.11515</td>\n",
       "      <td>Entire home/apt</td>\n",
       "      <td>50</td>\n",
       "      <td>30</td>\n",
       "      <td>0</td>\n",
       "      <td>NaN</td>\n",
       "      <td>NaN</td>\n",
       "      <td>1</td>\n",
       "      <td>0</td>\n",
       "      <td>0</td>\n",
       "      <td>NaN</td>\n",
       "    </tr>\n",
       "    <tr>\n",
       "      <th>4</th>\n",
       "      <td>3021</td>\n",
       "      <td>Hollywood Hills Zen Modern style Apt/Guesthouse</td>\n",
       "      <td>3415</td>\n",
       "      <td>Nataraj</td>\n",
       "      <td>City of Los Angeles</td>\n",
       "      <td>Hollywood Hills West</td>\n",
       "      <td>34.11160</td>\n",
       "      <td>-118.38223</td>\n",
       "      <td>Entire home/apt</td>\n",
       "      <td>118</td>\n",
       "      <td>31</td>\n",
       "      <td>23</td>\n",
       "      <td>2018-10-31</td>\n",
       "      <td>0.23</td>\n",
       "      <td>4</td>\n",
       "      <td>308</td>\n",
       "      <td>0</td>\n",
       "      <td>NaN</td>\n",
       "    </tr>\n",
       "  </tbody>\n",
       "</table>\n",
       "</div>"
      ],
      "text/plain": [
       "     id                                               name  host_id  \\\n",
       "0   109  Amazing bright elegant condo park front *UPGRA...      521   \n",
       "1  2708  Runyon Canyon | Beau Furn Mirror Mini-Suite Fi...     3008   \n",
       "2  2732                              Zen Life at the Beach     3041   \n",
       "3  2864             * Beautiful Master Suite/Jacuzzi Tub/*     3207   \n",
       "4  3021    Hollywood Hills Zen Modern style Apt/Guesthouse     3415   \n",
       "\n",
       "        host_name  neighbourhood_group         neighbourhood  latitude  \\\n",
       "0           Paolo         Other Cities           Culver City  33.98301   \n",
       "1           Chas.  City of Los Angeles             Hollywood  34.09625   \n",
       "2  Yoga Priestess         Other Cities          Santa Monica  34.00440   \n",
       "3       Bernadine         Other Cities            Bellflower  33.87490   \n",
       "4         Nataraj  City of Los Angeles  Hollywood Hills West  34.11160   \n",
       "\n",
       "   longitude        room_type  price  minimum_nights  number_of_reviews  \\\n",
       "0 -118.38607  Entire home/apt    115              30                  2   \n",
       "1 -118.34605     Private room     89              30                 33   \n",
       "2 -118.48095     Private room    167               7                 21   \n",
       "3 -118.11515  Entire home/apt     50              30                  0   \n",
       "4 -118.38223  Entire home/apt    118              31                 23   \n",
       "\n",
       "  last_review  reviews_per_month  calculated_host_listings_count  \\\n",
       "0  2016-05-15               0.02                               1   \n",
       "1  2021-11-01               0.69                               3   \n",
       "2  2019-12-27               0.35                               2   \n",
       "3         NaN                NaN                               1   \n",
       "4  2018-10-31               0.23                               4   \n",
       "\n",
       "   availability_365  number_of_reviews_ltm license  \n",
       "0               226                      0     NaN  \n",
       "1               327                      5     NaN  \n",
       "2               359                      0  228269  \n",
       "3                 0                      0     NaN  \n",
       "4               308                      0     NaN  "
      ]
     },
     "execution_count": 29,
     "metadata": {},
     "output_type": "execute_result"
    }
   ],
   "source": [
    "df_list.head()"
   ]
  },
  {
   "cell_type": "markdown",
   "metadata": {},
   "source": [
    "# Filtrando as colunas de interesse"
   ]
  },
  {
   "cell_type": "code",
   "execution_count": 30,
   "metadata": {},
   "outputs": [],
   "source": [
    "columns_interest = ['id',\n",
    "                    'name',\n",
    "                    'host_id',\n",
    "                    'host_name',\n",
    "                    'neighbourhood',\n",
    "                    'latitude',\n",
    "                    'longitude',\n",
    "                    'room_type',\n",
    "                    'price',\n",
    "                    'minimum_nights',\n",
    "                    'number_of_reviews',\n",
    "                    'calculated_host_listings_count',\n",
    "                    'availability_365']"
   ]
  },
  {
   "cell_type": "code",
   "execution_count": 31,
   "metadata": {},
   "outputs": [],
   "source": [
    "df_list = df_list[columns_interest]"
   ]
  },
  {
   "cell_type": "markdown",
   "metadata": {},
   "source": [
    "# Renomeando o tipo de quarto"
   ]
  },
  {
   "cell_type": "code",
   "execution_count": 32,
   "metadata": {},
   "outputs": [
    {
     "data": {
      "text/plain": [
       "array(['Entire home/apt', 'Private room', 'Hotel room', 'Shared room'],\n",
       "      dtype=object)"
      ]
     },
     "execution_count": 32,
     "metadata": {},
     "output_type": "execute_result"
    }
   ],
   "source": [
    "df_list['room_type'].unique()"
   ]
  },
  {
   "cell_type": "code",
   "execution_count": 33,
   "metadata": {},
   "outputs": [],
   "source": [
    "room_type = {'Entire home/apt': \"Espaço Inteiro\",\n",
    "             'Private room': 'Quarto Inteiro',\n",
    "             'Shared room': 'Quarto Compartilhado',\n",
    "             'Hotel room': 'Quarto de Hotel'}"
   ]
  },
  {
   "cell_type": "code",
   "execution_count": 34,
   "metadata": {},
   "outputs": [],
   "source": [
    "df_list['room_type'].replace(room_type, inplace=True)"
   ]
  },
  {
   "cell_type": "code",
   "execution_count": 35,
   "metadata": {},
   "outputs": [
    {
     "data": {
      "text/plain": [
       "array(['Espaço Inteiro', 'Quarto Inteiro', 'Quarto de Hotel',\n",
       "       'Quarto Compartilhado'], dtype=object)"
      ]
     },
     "execution_count": 35,
     "metadata": {},
     "output_type": "execute_result"
    }
   ],
   "source": [
    "df_list['room_type'].unique()"
   ]
  },
  {
   "cell_type": "code",
   "execution_count": 36,
   "metadata": {},
   "outputs": [
    {
     "data": {
      "text/html": [
       "<div>\n",
       "<style scoped>\n",
       "    .dataframe tbody tr th:only-of-type {\n",
       "        vertical-align: middle;\n",
       "    }\n",
       "\n",
       "    .dataframe tbody tr th {\n",
       "        vertical-align: top;\n",
       "    }\n",
       "\n",
       "    .dataframe thead th {\n",
       "        text-align: right;\n",
       "    }\n",
       "</style>\n",
       "<table border=\"1\" class=\"dataframe\">\n",
       "  <thead>\n",
       "    <tr style=\"text-align: right;\">\n",
       "      <th></th>\n",
       "      <th>id</th>\n",
       "      <th>name</th>\n",
       "      <th>host_id</th>\n",
       "      <th>host_name</th>\n",
       "      <th>neighbourhood</th>\n",
       "      <th>latitude</th>\n",
       "      <th>longitude</th>\n",
       "      <th>room_type</th>\n",
       "      <th>price</th>\n",
       "      <th>minimum_nights</th>\n",
       "      <th>number_of_reviews</th>\n",
       "      <th>calculated_host_listings_count</th>\n",
       "      <th>availability_365</th>\n",
       "    </tr>\n",
       "  </thead>\n",
       "  <tbody>\n",
       "    <tr>\n",
       "      <th>0</th>\n",
       "      <td>109</td>\n",
       "      <td>Amazing bright elegant condo park front *UPGRA...</td>\n",
       "      <td>521</td>\n",
       "      <td>Paolo</td>\n",
       "      <td>Culver City</td>\n",
       "      <td>33.98301</td>\n",
       "      <td>-118.38607</td>\n",
       "      <td>Espaço Inteiro</td>\n",
       "      <td>115</td>\n",
       "      <td>30</td>\n",
       "      <td>2</td>\n",
       "      <td>1</td>\n",
       "      <td>226</td>\n",
       "    </tr>\n",
       "    <tr>\n",
       "      <th>1</th>\n",
       "      <td>2708</td>\n",
       "      <td>Runyon Canyon | Beau Furn Mirror Mini-Suite Fi...</td>\n",
       "      <td>3008</td>\n",
       "      <td>Chas.</td>\n",
       "      <td>Hollywood</td>\n",
       "      <td>34.09625</td>\n",
       "      <td>-118.34605</td>\n",
       "      <td>Quarto Inteiro</td>\n",
       "      <td>89</td>\n",
       "      <td>30</td>\n",
       "      <td>33</td>\n",
       "      <td>3</td>\n",
       "      <td>327</td>\n",
       "    </tr>\n",
       "    <tr>\n",
       "      <th>2</th>\n",
       "      <td>2732</td>\n",
       "      <td>Zen Life at the Beach</td>\n",
       "      <td>3041</td>\n",
       "      <td>Yoga Priestess</td>\n",
       "      <td>Santa Monica</td>\n",
       "      <td>34.00440</td>\n",
       "      <td>-118.48095</td>\n",
       "      <td>Quarto Inteiro</td>\n",
       "      <td>167</td>\n",
       "      <td>7</td>\n",
       "      <td>21</td>\n",
       "      <td>2</td>\n",
       "      <td>359</td>\n",
       "    </tr>\n",
       "    <tr>\n",
       "      <th>3</th>\n",
       "      <td>2864</td>\n",
       "      <td>* Beautiful Master Suite/Jacuzzi Tub/*</td>\n",
       "      <td>3207</td>\n",
       "      <td>Bernadine</td>\n",
       "      <td>Bellflower</td>\n",
       "      <td>33.87490</td>\n",
       "      <td>-118.11515</td>\n",
       "      <td>Espaço Inteiro</td>\n",
       "      <td>50</td>\n",
       "      <td>30</td>\n",
       "      <td>0</td>\n",
       "      <td>1</td>\n",
       "      <td>0</td>\n",
       "    </tr>\n",
       "    <tr>\n",
       "      <th>4</th>\n",
       "      <td>3021</td>\n",
       "      <td>Hollywood Hills Zen Modern style Apt/Guesthouse</td>\n",
       "      <td>3415</td>\n",
       "      <td>Nataraj</td>\n",
       "      <td>Hollywood Hills West</td>\n",
       "      <td>34.11160</td>\n",
       "      <td>-118.38223</td>\n",
       "      <td>Espaço Inteiro</td>\n",
       "      <td>118</td>\n",
       "      <td>31</td>\n",
       "      <td>23</td>\n",
       "      <td>4</td>\n",
       "      <td>308</td>\n",
       "    </tr>\n",
       "  </tbody>\n",
       "</table>\n",
       "</div>"
      ],
      "text/plain": [
       "     id                                               name  host_id  \\\n",
       "0   109  Amazing bright elegant condo park front *UPGRA...      521   \n",
       "1  2708  Runyon Canyon | Beau Furn Mirror Mini-Suite Fi...     3008   \n",
       "2  2732                              Zen Life at the Beach     3041   \n",
       "3  2864             * Beautiful Master Suite/Jacuzzi Tub/*     3207   \n",
       "4  3021    Hollywood Hills Zen Modern style Apt/Guesthouse     3415   \n",
       "\n",
       "        host_name         neighbourhood  latitude  longitude       room_type  \\\n",
       "0           Paolo           Culver City  33.98301 -118.38607  Espaço Inteiro   \n",
       "1           Chas.             Hollywood  34.09625 -118.34605  Quarto Inteiro   \n",
       "2  Yoga Priestess          Santa Monica  34.00440 -118.48095  Quarto Inteiro   \n",
       "3       Bernadine            Bellflower  33.87490 -118.11515  Espaço Inteiro   \n",
       "4         Nataraj  Hollywood Hills West  34.11160 -118.38223  Espaço Inteiro   \n",
       "\n",
       "   price  minimum_nights  number_of_reviews  calculated_host_listings_count  \\\n",
       "0    115              30                  2                               1   \n",
       "1     89              30                 33                               3   \n",
       "2    167               7                 21                               2   \n",
       "3     50              30                  0                               1   \n",
       "4    118              31                 23                               4   \n",
       "\n",
       "   availability_365  \n",
       "0               226  \n",
       "1               327  \n",
       "2               359  \n",
       "3                 0  \n",
       "4               308  "
      ]
     },
     "execution_count": 36,
     "metadata": {},
     "output_type": "execute_result"
    }
   ],
   "source": [
    "df_list.head()"
   ]
  },
  {
   "cell_type": "code",
   "execution_count": 37,
   "metadata": {},
   "outputs": [],
   "source": [
    "path_output = os.path.join(sys.path[0], \"data\", f'airbnb_{id_city}.csv')\n",
    "df_list.to_csv(path_output)"
   ]
  },
  {
   "cell_type": "markdown",
   "metadata": {},
   "source": [
    "# Salvando arquivo"
   ]
  }
 ],
 "metadata": {
  "interpreter": {
   "hash": "fad6eb7b142b81d5d381ba89e2e16a429d80dd93c853e7b87ff2af322e0a8fab"
  },
  "kernelspec": {
   "display_name": "Python 3.7.3 ('engc_env')",
   "language": "python",
   "name": "python3"
  },
  "language_info": {
   "codemirror_mode": {
    "name": "ipython",
    "version": 3
   },
   "file_extension": ".py",
   "mimetype": "text/x-python",
   "name": "python",
   "nbconvert_exporter": "python",
   "pygments_lexer": "ipython3",
   "version": "3.7.3"
  },
  "orig_nbformat": 4
 },
 "nbformat": 4,
 "nbformat_minor": 2
}
